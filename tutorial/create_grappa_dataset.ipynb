{
 "cells": [
  {
   "cell_type": "markdown",
   "metadata": {},
   "source": [
    "# Create Grappa dataset"
   ]
  },
  {
   "cell_type": "markdown",
   "metadata": {},
   "source": [
    "## 1. Create top-files from pdb-files"
   ]
  },
  {
   "cell_type": "code",
   "execution_count": null,
   "metadata": {
    "vscode": {
     "languageId": "shellscript"
    }
   },
   "outputs": [],
   "source": [
    "%%bash \n",
    "\n",
    "# make sure to have a running version of gromacs for this code block\n",
    "\n",
    "top_dir=\"gmx_top\"\n",
    "pdb_dir=\"pdbs\"\n",
    "\n",
    "cwd=$(pwd)\n",
    "\n",
    "cp -r $pdb_dir $top_dir\n",
    "cp -r amber99sb-ildn.ff $top_dir \n",
    "\n",
    "pushd  $top_dir &>> /dev/null\n",
    "\n",
    "for dir in *; do\n",
    "    if [[ \"$(basename \"$dir\")\" == \"amber99sb-ildn.ff\" ]]; then\n",
    "        continue  \n",
    "    fi   \n",
    "\n",
    "    pushd $dir &>> /dev/null\n",
    "    ln -s ../amber99sb-ildn.ff amber99sb-ildn.ff\n",
    "    printf \"1\\n1\\n \" | gmx pdb2gmx -f pep.pdb -o pep.gro -p pep.top -i pep.itp -n pep.ndx -ignh -nov &>> /dev/null\n",
    "    gmx editconf -f pep.gro -o pep.gro -c -d 1.0 &>> /dev/null   # add simulation box\n",
    "    popd &>> /dev/null\n",
    "    # rm \"$pdb\"\n",
    "done \n",
    "\n",
    "popd &>> /dev/null"
   ]
  },
  {
   "cell_type": "markdown",
   "metadata": {},
   "source": [
    "### 1.1 Check whether GROMACS topology files were written to the target directory"
   ]
  },
  {
   "cell_type": "code",
   "execution_count": null,
   "metadata": {
    "vscode": {
     "languageId": "shellscript"
    }
   },
   "outputs": [],
   "source": [
    "%%bash \n",
    "\n",
    "parent_dir=\"gmx_top\"\n",
    "\n",
    "# Initialize counters\n",
    "count=0\n",
    "total=-1 #substract force field dir\n",
    "\n",
    "# Loop through subdirectories\n",
    "for subdir in \"$parent_dir\"/*/; do\n",
    "    total=$((total + 1))  # Increment total subdirectory counter\n",
    "\n",
    "    # Check if both .pdb and .top files exist in the subdirectory\n",
    "    if ls \"$subdir\"/*.pdb 1> /dev/null 2>&1 && ls \"$subdir\"/*.top 1> /dev/null 2>&1; then\n",
    "        count=$((count + 1))\n",
    "    fi\n",
    "done\n",
    "\n",
    "# Print the result\n",
    "echo \"Number of subdirectories in $parent_dir with both .pdb and .top files: $count\"\n",
    "echo \"Total number of subdirectories: $total\""
   ]
  },
  {
   "cell_type": "markdown",
   "metadata": {},
   "source": [
    "## 1.2 Create a subset of all pdbs/tops for easier handling"
   ]
  },
  {
   "cell_type": "code",
   "execution_count": 21,
   "metadata": {
    "vscode": {
     "languageId": "shellscript"
    }
   },
   "outputs": [],
   "source": [
    "%%bash\n",
    "# Define source and target directories\n",
    "source_dir=\"gmx_top\"\n",
    "target_dir=\"tutorial-MD-input\"\n",
    "\n",
    "# Ensure the target directory exists\n",
    "mkdir -p \"$target_dir\"\n",
    "\n",
    "# Copy subdirectories starting with 'G'\n",
    "for subdir in \"$source_dir\"/G*/; do\n",
    "    if [ -d \"$subdir\" ]; then\n",
    "        cp -r \"$subdir\" \"$target_dir\"\n",
    "    fi\n",
    "done\n",
    "\n",
    "cp -r $source_dir/amber99sb-ildn.ff $target_dir\n"
   ]
  },
  {
   "cell_type": "markdown",
   "metadata": {},
   "source": [
    "## 2. Sample States with MD"
   ]
  },
  {
   "cell_type": "markdown",
   "metadata": {},
   "source": [
    "## 2.0 Set up a python environment with OpenMM and Grappa"
   ]
  },
  {
   "cell_type": "code",
   "execution_count": null,
   "metadata": {
    "vscode": {
     "languageId": "shellscript"
    }
   },
   "outputs": [],
   "source": [
    "%%bash\n",
    "# not tested, check https://github.com/graeter-group/grappa?tab=readme-ov-file#installation for the most recent installation instructions\n",
    "conda create -n grappa python=3.10 -y\n",
    "conda activate grappa\n",
    "\n",
    "conda install -c conda-forge openmm # optional: cudatoolkit=<YOUR CUDA>\n",
    "python -m openmm.testInstallation   # verify that OpenMM can run on your GPU platform\n",
    "\n",
    "git clone https://github.com/hits-mbm-dev/grappa.git\n",
    "cd grappa\n",
    "\n",
    "pip install -r installation/cpu_requirements.txt\n",
    "pip install -e .\n",
    "python tests/test_installation.py   # verify that your Grappa installation is running"
   ]
  },
  {
   "cell_type": "markdown",
   "metadata": {},
   "source": [
    "## 2.1 Sample States"
   ]
  },
  {
   "cell_type": "code",
   "execution_count": null,
   "metadata": {
    "vscode": {
     "languageId": "shellscript"
    }
   },
   "outputs": [],
   "source": [
    "%%bash\n",
    "\n",
    "# For this step, a python environment with OpenMM and Grappa is required\n",
    "# Grappa imports may take a while\n",
    "\n",
    "python ../generate_states.py tutorial-MD-input -n 10 -t 100 --t_max 500 --gmx_topology"
   ]
  },
  {
   "cell_type": "markdown",
   "metadata": {},
   "source": [
    "## 3. Calculate QM single point energies and forces"
   ]
  },
  {
   "cell_type": "markdown",
   "metadata": {},
   "source": [
    "## 3.0 Set up a python environment with Psi4 and ASE"
   ]
  },
  {
   "cell_type": "code",
   "execution_count": null,
   "metadata": {
    "vscode": {
     "languageId": "shellscript"
    }
   },
   "outputs": [],
   "source": [
    "%%bash\n",
    "# not tested, check out https://psicode.org/psi4manual/master/build_obtaining.html#faq-binarypackage and https://wiki.fysik.dtu.dk/ase/install.html\n",
    "\n",
    "conda create -n p4env psi4 -c conda-forge/label/libint_dev -c conda-forge\n",
    "conda activate p4env\n",
    "psi4 --test\n",
    "\n",
    "pip install --upgrade ase"
   ]
  },
  {
   "cell_type": "markdown",
   "metadata": {},
   "source": [
    "## 3.1 Calculate single points"
   ]
  },
  {
   "cell_type": "code",
   "execution_count": null,
   "metadata": {
    "vscode": {
     "languageId": "shellscript"
    }
   },
   "outputs": [],
   "source": [
    "%%bash\n",
    "\n",
    "# For this step, a python environment with psi4 and ase is required\n",
    "# These calculations should be run on a compute cluster with the appropriate settings\n",
    "\n",
    "THIS_DIR=$(pwd)\n",
    "DS=\"tutorial-MD-input\"\n",
    "\n",
    "MEM=32\n",
    "CORES=6\n",
    "\n",
    "\n",
    "python ../single_points.py \"$THIS_DIR/$DS\" -m $MEM -t $CORES -s &"
   ]
  },
  {
   "cell_type": "markdown",
   "metadata": {},
   "source": [
    "## 4. Create a Grappa dataset"
   ]
  },
  {
   "cell_type": "code",
   "execution_count": null,
   "metadata": {},
   "outputs": [],
   "source": [
    "# Here, a python environment with OpenMM, ASE and Grappa is required\n",
    "# You can use the supplied QM data to continue without having to calculate it yourself\n",
    "\n",
    "from pathlib import Path\n",
    "from grappa.data.dataset_builder import DatasetBuilder\n",
    "\n",
    "cwd = Path().cwd()\n",
    "\n",
    "dataset_qm = cwd / \"tutorial-QM-input\"\n",
    "dataset_top = cwd / \"tutorial-MD-input\"\n",
    "db = DatasetBuilder.from_QM_dicts(dataset_qm,verbose=True)\n",
    "db.add_nonbonded_from_gmx_top(dataset_top,add_pdb=True)\n",
    "db.remove_bonded_parameters()\n",
    "db.filter_bad_nonbonded()\n",
    "db.write_to_dir(cwd / 'tutorial-dataset',overwrite=True,delete_dgl=True)"
   ]
  },
  {
   "cell_type": "markdown",
   "metadata": {},
   "source": [
    "## 5. Inspect the finished dataset"
   ]
  },
  {
   "cell_type": "code",
   "execution_count": null,
   "metadata": {
    "vscode": {
     "languageId": "shellscript"
    }
   },
   "outputs": [],
   "source": [
    "%%bash \n",
    "# This requires an environment with Grappa\n",
    "grappa_inspect-dataset tutorial_dataset"
   ]
  },
  {
   "cell_type": "markdown",
   "metadata": {},
   "source": [
    "You should see something like this:\n",
    "\n",
    "```\n",
    "Dataset: tutorial-dataset with 20 molecules and 998 conformations\n",
    "\n",
    "QM Energy mean: -0.00, std:  5.96, max: 20.08, min: -17.58 [kcal/mol]\n",
    "QM Gradient norm mean: 36.28, std: 23.23, max: 182.62 [kcal/mol/Å]\n",
    "Target energy difference (QM - MM(nonbonded)) for reference_ff: mean -0.00, std:  6.73, max: 20.13, min -22.99 [kcal/mol]\n",
    "Target gradient norm difference (QM - MM(nonbonded)) for reference_ff: mean 31.26, std:  4.14, max: 48.41, min 16.91 [kcal/mol/A]\n",
    "Structures\n",
    "xyz: 20\tpdb: 20\t\n",
    "\n",
    "QM data\n",
    "energy: 20\tgradient: 20\t\n",
    "\n",
    "FF Parameters\n",
    "bond_eq: 0\tbond_k: 0\t\n",
    "angle_k: 0\tangle_eq: 0\t\n",
    "proper_ks: 0\tproper_phases: 0\t\n",
    "improper_ks: 0\timproper_phases: 0\t\n",
    "\n",
    "FF Energy/Gradients\n",
    "qm energy total: 20; gradient total: 20\n",
    "reference_ff energy total: 20, nonbonded: 20; gradient total: 20, nonbonded: 20\n",
    "```"
   ]
  },
  {
   "cell_type": "markdown",
   "metadata": {},
   "source": [
    "## 6. Train on the finished dataset"
   ]
  },
  {
   "cell_type": "code",
   "execution_count": null,
   "metadata": {
    "vscode": {
     "languageId": "shellscript"
    }
   },
   "outputs": [],
   "source": [
    "%%bash\n",
    "\n",
    "# A grappa environment, ideally with gpu support, is required for training \n",
    "\n",
    "cp -r tutorial-dataset/ <grappa_src_dir>/data/datasets/\n",
    "python experiments/train.py experiment=grappa-continued data=grappa-from-ckpt data.extra_datasets=[tutorial-dataset]"
   ]
  },
  {
   "cell_type": "markdown",
   "metadata": {},
   "source": [
    "You should have a link to your wandb run in stdout and see the progress. After finishing, the accuracy on the test set should be roughly\n",
    "\n",
    "```\n",
    "[2024-12-16 10:53:25,961][root][INFO] - Test summary:\n",
    "                 n_mols n_confs rmse_energies crmse_gradients\n",
    "tutorial-dataset      2     100    1.77+-0.05      5.32+-0.02\n",
    "```"
   ]
  },
  {
   "cell_type": "code",
   "execution_count": null,
   "metadata": {},
   "outputs": [],
   "source": []
  }
 ],
 "metadata": {
  "kernelspec": {
   "display_name": "kimmdy_full",
   "language": "python",
   "name": "python3"
  },
  "language_info": {
   "codemirror_mode": {
    "name": "ipython",
    "version": 3
   },
   "file_extension": ".py",
   "mimetype": "text/x-python",
   "name": "python",
   "nbconvert_exporter": "python",
   "pygments_lexer": "ipython3",
   "version": "3.10.13"
  }
 },
 "nbformat": 4,
 "nbformat_minor": 2
}
